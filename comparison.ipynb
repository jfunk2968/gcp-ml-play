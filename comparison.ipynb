{
 "cells": [
  {
   "cell_type": "code",
   "execution_count": 1,
   "id": "9a185f8f-bcbc-48d8-8d6c-81da28f9a66a",
   "metadata": {},
   "outputs": [],
   "source": [
    "import pandas as pd"
   ]
  },
  {
   "cell_type": "markdown",
   "id": "23ef8bf1-320a-48f6-b8ad-a3833ebc9d1c",
   "metadata": {},
   "source": [
    "## BQML Logistic Model V2"
   ]
  },
  {
   "cell_type": "code",
   "execution_count": 6,
   "id": "cfd8d1f5-bf71-4f89-b88d-43d15c553ee4",
   "metadata": {},
   "outputs": [
    {
     "name": "stderr",
     "output_type": "stream",
     "text": [
      "Query complete after 0.00s: 100%|██████████| 3/3 [00:00<00:00, 1606.81query/s]                        \n",
      "Downloading: 100%|██████████| 74368/74368 [00:01<00:00, 71162.95rows/s]\n"
     ]
    }
   ],
   "source": [
    "%%bigquery val_scores_bq\n",
    "\n",
    "SELECT * \n",
    "FROM\n",
    "  ML.PREDICT(MODEL `ml-playground-999`.ga_models.model_logistic_v2,\n",
    "             TABLE `ml-playground-999.ga_data.validate`)"
   ]
  },
  {
   "cell_type": "code",
   "execution_count": 7,
   "id": "a1538640-41b8-4300-bc1c-38d6997b1416",
   "metadata": {},
   "outputs": [],
   "source": [
    "val_scores_bq.to_csv('comparison/validate_bqml_logistic_v2.csv', index=False)"
   ]
  },
  {
   "cell_type": "markdown",
   "id": "d343be07-2fdf-461f-ba46-50b9b30b7012",
   "metadata": {},
   "source": [
    "## AutoML Tables Model"
   ]
  },
  {
   "cell_type": "code",
   "execution_count": null,
   "id": "a46b9314-77ca-4187-8b22-7cf5f1dfdcb5",
   "metadata": {},
   "outputs": [],
   "source": [
    "## having issues with batch pred from BQ ... try from GCS"
   ]
  },
  {
   "cell_type": "code",
   "execution_count": 8,
   "id": "a35a3330-53d9-4204-9fe2-968bcc8eccdf",
   "metadata": {},
   "outputs": [
    {
     "name": "stdout",
     "output_type": "stream",
     "text": [
      "Copying file://data/val.csv to gs://ml_playground_automl_preds/val.csv\n",
      "  Completed files 1/1 | 8.6MiB/8.6MiB                                          \n"
     ]
    }
   ],
   "source": [
    "!gcloud storage cp data/val.csv gs://ml_playground_automl_preds/"
   ]
  },
  {
   "cell_type": "code",
   "execution_count": null,
   "id": "005b6575-a8c7-4abf-aca7-37a498825dca",
   "metadata": {},
   "outputs": [],
   "source": []
  }
 ],
 "metadata": {
  "environment": {
   "kernel": "python3",
   "name": "common-cpu.m99",
   "type": "gcloud",
   "uri": "gcr.io/deeplearning-platform-release/base-cpu:m99"
  },
  "kernelspec": {
   "display_name": "Python 3",
   "language": "python",
   "name": "python3"
  },
  "language_info": {
   "codemirror_mode": {
    "name": "ipython",
    "version": 3
   },
   "file_extension": ".py",
   "mimetype": "text/x-python",
   "name": "python",
   "nbconvert_exporter": "python",
   "pygments_lexer": "ipython3",
   "version": "3.7.12"
  }
 },
 "nbformat": 4,
 "nbformat_minor": 5
}
