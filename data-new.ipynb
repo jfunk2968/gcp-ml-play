{
 "cells": [
  {
   "cell_type": "code",
   "execution_count": 1,
   "id": "1ee717ab-23bb-4399-a812-8fdc17f2ff8e",
   "metadata": {},
   "outputs": [],
   "source": [
    "import pandas as pd"
   ]
  },
  {
   "cell_type": "code",
   "execution_count": 1,
   "id": "1dc1f4e2-4fbd-4f03-b59c-2f1c25bdcb17",
   "metadata": {},
   "outputs": [
    {
     "name": "stderr",
     "output_type": "stream",
     "text": [
      "Query complete after 0.01s: 100%|██████████| 2/2 [00:00<00:00, 1068.88query/s]                        \n",
      "Downloading: 100%|██████████| 829285/829285 [00:01<00:00, 500412.96rows/s]\n"
     ]
    }
   ],
   "source": [
    "%%bigquery train\n",
    "SELECT * FROM `ml-playground-999.ga_data.train`;"
   ]
  },
  {
   "cell_type": "code",
   "execution_count": 2,
   "id": "854a122a-3f53-4978-96f7-5c301baabaae",
   "metadata": {},
   "outputs": [],
   "source": [
    "train.to_csv('data/train.csv', index=False)"
   ]
  },
  {
   "cell_type": "code",
   "execution_count": 3,
   "id": "967b9ab8-c597-443f-9498-5b95478d54a3",
   "metadata": {},
   "outputs": [
    {
     "name": "stderr",
     "output_type": "stream",
     "text": [
      "Query complete after 0.00s: 100%|██████████| 2/2 [00:00<00:00, 1015.82query/s]                        \n",
      "Downloading: 100%|██████████| 74368/74368 [00:01<00:00, 72677.82rows/s]\n"
     ]
    }
   ],
   "source": [
    "%%bigquery val\n",
    "SELECT * FROM `ml-playground-999.ga_data.validate`;"
   ]
  },
  {
   "cell_type": "code",
   "execution_count": 4,
   "id": "318ebeb5-5c38-4c21-a292-568b119ab8bc",
   "metadata": {},
   "outputs": [],
   "source": [
    "val.to_csv('data/val.csv', index=False)"
   ]
  },
  {
   "cell_type": "code",
   "execution_count": null,
   "id": "ea0875bf-5f57-428c-9e6e-4d61b51ea46a",
   "metadata": {},
   "outputs": [],
   "source": []
  }
 ],
 "metadata": {
  "environment": {
   "kernel": "python3",
   "name": "common-cpu.m99",
   "type": "gcloud",
   "uri": "gcr.io/deeplearning-platform-release/base-cpu:m99"
  },
  "kernelspec": {
   "display_name": "Python 3",
   "language": "python",
   "name": "python3"
  },
  "language_info": {
   "codemirror_mode": {
    "name": "ipython",
    "version": 3
   },
   "file_extension": ".py",
   "mimetype": "text/x-python",
   "name": "python",
   "nbconvert_exporter": "python",
   "pygments_lexer": "ipython3",
   "version": "3.7.12"
  }
 },
 "nbformat": 4,
 "nbformat_minor": 5
}
