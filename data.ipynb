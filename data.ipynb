{
 "cells": [
  {
   "cell_type": "markdown",
   "id": "a1edd5cc-f81e-4851-8b33-99732de232bd",
   "metadata": {},
   "source": [
    "## OLD - train and validate tables now in BQ"
   ]
  },
  {
   "cell_type": "code",
   "execution_count": 1,
   "id": "1ee717ab-23bb-4399-a812-8fdc17f2ff8e",
   "metadata": {},
   "outputs": [],
   "source": [
    "import pandas as pd"
   ]
  },
  {
   "cell_type": "code",
   "execution_count": 2,
   "id": "1dc1f4e2-4fbd-4f03-b59c-2f1c25bdcb17",
   "metadata": {},
   "outputs": [
    {
     "name": "stderr",
     "output_type": "stream",
     "text": [
      "Query complete after 0.01s: 100%|██████████| 2/2 [00:00<00:00, 953.90query/s]                         \n",
      "Downloading: 100%|██████████| 653475/653475 [00:01<00:00, 427197.59rows/s]\n"
     ]
    }
   ],
   "source": [
    "%%bigquery train\n",
    "\n",
    "SELECT\n",
    "  IF(totals.transactions IS NULL, 0, 1) AS label,\n",
    "  IFNULL(device.operatingSystem, \"\") AS os,\n",
    "  device.isMobile AS is_mobile,\n",
    "  IFNULL(geoNetwork.country, \"\") AS country,\n",
    "  IFNULL(totals.pageviews, 0) AS pageviews,\n",
    "  IFNULL(totals.visits, 0) AS visits,\n",
    "  IFNULL(totals.hits, 0) AS hits,\n",
    "  IFNULL(totals.bounces, 0) AS bounces,\n",
    "  trafficSource.campaign as campaign,\n",
    "  trafficSource.source as traffic_source,\n",
    "  trafficSource.medium as medium,\n",
    "  device.deviceCategory as device_category,\n",
    "  socialEngagementType as engagement_type\n",
    "FROM\n",
    "  `bigquery-public-data.google_analytics_sample.ga_sessions_*`\n",
    "WHERE\n",
    "  _TABLE_SUFFIX BETWEEN '20160801' AND '20170630'\n",
    "    AND ABS(MOD(farm_fingerprint(date), 10)) < 8;"
   ]
  },
  {
   "cell_type": "code",
   "execution_count": 3,
   "id": "854a122a-3f53-4978-96f7-5c301baabaae",
   "metadata": {},
   "outputs": [],
   "source": [
    "train.to_csv('data/train.csv', index=False)"
   ]
  },
  {
   "cell_type": "code",
   "execution_count": 4,
   "id": "059edbc6-9c05-4c55-bbfc-4fa0adbacd21",
   "metadata": {},
   "outputs": [
    {
     "name": "stderr",
     "output_type": "stream",
     "text": [
      "Query complete after 0.00s: 100%|██████████| 2/2 [00:00<00:00, 951.95query/s]                         \n",
      "Downloading: 100%|██████████| 175810/175810 [00:01<00:00, 148628.78rows/s]\n"
     ]
    }
   ],
   "source": [
    "%%bigquery test\n",
    "\n",
    "SELECT\n",
    "  IF(totals.transactions IS NULL, 0, 1) AS label,\n",
    "  IFNULL(device.operatingSystem, \"\") AS os,\n",
    "  device.isMobile AS is_mobile,\n",
    "  IFNULL(geoNetwork.country, \"\") AS country,\n",
    "  IFNULL(totals.pageviews, 0) AS pageviews,\n",
    "  IFNULL(totals.visits, 0) AS visits,\n",
    "  IFNULL(totals.hits, 0) AS hits,\n",
    "  IFNULL(totals.bounces, 0) AS bounces,\n",
    "  trafficSource.campaign as campaign,\n",
    "  trafficSource.source as traffic_source,\n",
    "  trafficSource.medium as medium,\n",
    "  device.deviceCategory as device_category,\n",
    "  socialEngagementType as engagement_type\n",
    "FROM\n",
    "  `bigquery-public-data.google_analytics_sample.ga_sessions_*`\n",
    "WHERE\n",
    "  _TABLE_SUFFIX BETWEEN '20160801' AND '20170630'\n",
    "    AND ABS(MOD(farm_fingerprint(date), 10)) >= 8;"
   ]
  },
  {
   "cell_type": "code",
   "execution_count": 5,
   "id": "967b9ab8-c597-443f-9498-5b95478d54a3",
   "metadata": {},
   "outputs": [],
   "source": [
    "test.to_csv('data/test.csv', index=False)"
   ]
  },
  {
   "cell_type": "code",
   "execution_count": 7,
   "id": "59fc23bb-2ede-4d79-81d2-ce258f3527c8",
   "metadata": {},
   "outputs": [
    {
     "name": "stderr",
     "output_type": "stream",
     "text": [
      "Query complete after 0.00s: 100%|██████████| 2/2 [00:00<00:00, 992.73query/s]                         \n",
      "Downloading: 100%|██████████| 74368/74368 [00:01<00:00, 65432.22rows/s]\n"
     ]
    }
   ],
   "source": [
    "%%bigquery val\n",
    "\n",
    "SELECT\n",
    "  IF(totals.transactions IS NULL, 0, 1) AS label,\n",
    "  IFNULL(device.operatingSystem, \"\") AS os,\n",
    "  device.isMobile AS is_mobile,\n",
    "  IFNULL(geoNetwork.country, \"\") AS country,\n",
    "  IFNULL(totals.pageviews, 0) AS pageviews,\n",
    "  IFNULL(totals.visits, 0) AS visits,\n",
    "  IFNULL(totals.hits, 0) AS hits,\n",
    "  IFNULL(totals.bounces, 0) AS bounces,\n",
    "  trafficSource.campaign as campaign,\n",
    "  trafficSource.source as traffic_source,\n",
    "  trafficSource.medium as medium,\n",
    "  device.deviceCategory as device_category,\n",
    "  socialEngagementType as engagement_type\n",
    "FROM\n",
    "  `bigquery-public-data.google_analytics_sample.ga_sessions_*`\n",
    "WHERE\n",
    "  _TABLE_SUFFIX BETWEEN '20170701' AND '20170801';"
   ]
  },
  {
   "cell_type": "code",
   "execution_count": 8,
   "id": "318ebeb5-5c38-4c21-a292-568b119ab8bc",
   "metadata": {},
   "outputs": [],
   "source": [
    "val.to_csv('data/val.csv', index=False)"
   ]
  },
  {
   "cell_type": "code",
   "execution_count": null,
   "id": "ea0875bf-5f57-428c-9e6e-4d61b51ea46a",
   "metadata": {},
   "outputs": [],
   "source": []
  }
 ],
 "metadata": {
  "environment": {
   "kernel": "python3",
   "name": "common-cpu.m99",
   "type": "gcloud",
   "uri": "gcr.io/deeplearning-platform-release/base-cpu:m99"
  },
  "kernelspec": {
   "display_name": "Python 3",
   "language": "python",
   "name": "python3"
  },
  "language_info": {
   "codemirror_mode": {
    "name": "ipython",
    "version": 3
   },
   "file_extension": ".py",
   "mimetype": "text/x-python",
   "name": "python",
   "nbconvert_exporter": "python",
   "pygments_lexer": "ipython3",
   "version": "3.7.12"
  }
 },
 "nbformat": 4,
 "nbformat_minor": 5
}
